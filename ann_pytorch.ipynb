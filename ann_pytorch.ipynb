
{
 "cells": [
  {
   "cell_type": "markdown",
   "metadata": {},
   "source": [
    "# Artificial Neural Network (ANN) using PyTorch"
   ]
  },
  {
   "cell_type": "code",
   "execution_count": null,
   "metadata": {},
   "outputs": [],
   "source": [
    "# Import necessary libraries",
    "import torch",
    "import torch.nn as nn",
    "import torch.optim as optim",
    "from torch.utils.data import DataLoader, TensorDataset",
    "import numpy as np",
    "import pandas as pd",
    "from sklearn.preprocessing import StandardScaler",
    "from sklearn.model_selection import train_test_split",
    "from sklearn.metrics import accuracy_score"
   ]
  },
  {
   "cell_type": "markdown",
   "metadata": {},
   "source": [
    "## Data Preprocessing"
   ]
  },
  {
   "cell_type": "code",
   "execution_count": null,
   "metadata": {},
   "outputs": [],
   "source": [
    "# Load dataset",
    "df = pd.read_csv('diabetes.csv')",
    "",
    "# Features and target",
    "X = df.drop('Outcome', axis=1).values",
    "y = df['Outcome'].values",
    "",
    "# Standardize features",
    "scaler = StandardScaler()",
    "X = scaler.fit_transform(X)",
    "",
    "# Split the data into training and testing sets",
    "X_train, X_test, y_train, y_test = train_test_split(X, y, test_size=0.2, random_state=42)",
    "",
    "# Convert data to PyTorch tensors",
    "X_train_tensor = torch.tensor(X_train, dtype=torch.float32)",
    "X_test_tensor = torch.tensor(X_test, dtype=torch.float32)",
    "y_train_tensor = torch.tensor(y_train, dtype=torch.float32).unsqueeze(1)",
    "y_test_tensor = torch.tensor(y_test, dtype=torch.float32).unsqueeze(1)"
   ]
  },
  {
   "cell_type": "markdown",
   "metadata": {},
   "source": [
    "## Building the Neural Network"
   ]
  },
  {
   "cell_type": "code",
   "execution_count": null,
   "metadata": {},
   "outputs": [],
   "source": [
    "# Define the neural network model",
    "class ANNModel(nn.Module):",
    "    def __init__(self):",
    "        super(ANNModel, self).__init__()",
    "        self.fc1 = nn.Linear(8, 16)  # 8 input features",
    "        self.fc2 = nn.Linear(16, 8)",
    "        self.fc3 = nn.Linear(8, 1)",
    "        self.sigmoid = nn.Sigmoid()",
    "    ",
    "    def forward(self, x):",
    "        x = torch.relu(self.fc1(x))",
    "        x = torch.relu(self.fc2(x))",
    "        x = self.sigmoid(self.fc3(x))",
    "        return x",
    "",
    "# Initialize the model, loss function, and optimizer",
    "model = ANNModel()",
    "criterion = nn.BCELoss()",
    "optimizer = optim.Adam(model.parameters(), lr=0.001)"
   ]
  },
  {
   "cell_type": "markdown",
   "metadata": {},
   "source": [
    "## Training the Model"
   ]
  },
  {
   "cell_type": "code",
   "execution_count": null,
   "metadata": {},
   "outputs": [],
   "source": [
    "# Training loop",
    "epochs = 100",
    "for epoch in range(epochs):",
    "    model.train()",
    "    optimizer.zero_grad()",
    "    outputs = model(X_train_tensor)",
    "    loss = criterion(outputs, y_train_tensor)",
    "    loss.backward()",
    "    optimizer.step()",
    "    ",
    "    if (epoch+1) % 10 == 0:",
    "        print(f'Epoch [{epoch+1}/{epochs}], Loss: {loss.item():.4f}')"
   ]
  },
  {
   "cell_type": "markdown",
   "metadata": {},
   "source": [
    "## Evaluating the Model"
   ]
  },
  {
   "cell_type": "code",
   "execution_count": null,
   "metadata": {},
   "outputs": [],
   "source": [
    "# Evaluate the model",
    "model.eval()",
    "with torch.no_grad():",
    "    predictions = model(X_test_tensor)",
    "    predictions = (predictions > 0.5).float()",
    "    accuracy = accuracy_score(y_test_tensor, predictions)",
    "    print(f'Accuracy: {accuracy:.4f}')"
   ]
  }
 ],
 "metadata": {
  "kernelspec": {
   "display_name": "Python 3",
   "language": "python",
   "name": "python3"
  },
  "language_info": {
   "codemirror_mode": {
    "name": "ipython",
    "version": 3
   },
   "file_extension": ".py",
   "mimetype": "text/x-python",
   "name": "python",
   "nbconvert_exporter": "python",
   "version": "3.8.5"
  }
 },
 "nbformat": 4,
 "nbformat_minor": 4
}
